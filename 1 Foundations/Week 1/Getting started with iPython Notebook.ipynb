{
 "cells": [
  {
   "cell_type": "markdown",
   "metadata": {},
   "source": [
    "# Getting started with Python"
   ]
  },
  {
   "cell_type": "code",
   "execution_count": 1,
   "metadata": {
    "collapsed": false
   },
   "outputs": [
    {
     "name": "stdout",
     "output_type": "stream",
     "text": [
      "tar: Removing leading `../../' from member names\n",
      "../../coursera-machinelearning-course1-condaenv.txt\n",
      "../../work/\n",
      "../../work/Week 4/\n",
      "../../work/Week 4/song_data.gl/\n",
      "../../work/Week 4/song_data.gl/m_cccc16853452d1ed.0000\n",
      "../../work/Week 4/song_data.gl/dir_archive.ini\n",
      "../../work/Week 4/song_data.gl/m_cccc16853452d1ed.sidx\n",
      "../../work/Week 4/song_data.gl/objects.bin\n",
      "../../work/Week 4/song_data.gl/m_cccc16853452d1ed.frame_idx\n",
      "../../work/Week 4/people_wiki.gl/\n",
      "../../work/Week 4/people_wiki.gl/m_4549381c276b46c6.frame_idx\n",
      "../../work/Week 4/people_wiki.gl/dir_archive.ini\n",
      "../../work/Week 4/people_wiki.gl/objects.bin\n",
      "../../work/Week 4/people_wiki.gl/m_4549381c276b46c6.0000\n",
      "../../work/Week 4/people_wiki.gl/m_4549381c276b46c6.sidx\n",
      "../../work/Week 4/Document Retrieval.ipynb\n",
      "../../work/Week 6/\n",
      "../../work/Week 6/image_train_data/\n",
      "../../work/Week 6/image_train_data/m_504edbda459b24ff.frame_idx\n",
      "../../work/Week 6/image_train_data/dir_archive.ini\n",
      "../../work/Week 6/image_train_data/m_504edbda459b24ff.sidx\n",
      "../../work/Week 6/image_train_data/objects.bin\n",
      "../../work/Week 6/image_train_data/m_504edbda459b24ff.0000\n",
      "../../work/Week 6/Deep Features for Image Retrieval.ipynb\n",
      "../../work/Week 6/Deep Features for Image Classification.ipynb\n",
      "../../work/Week 6/image_test_data/\n",
      "../../work/Week 6/image_test_data/m_e16f5ffd2c088370.0000\n",
      "../../work/Week 6/image_test_data/m_e16f5ffd2c088370.sidx\n",
      "../../work/Week 6/image_test_data/dir_archive.ini\n",
      "../../work/Week 6/image_test_data/objects.bin\n",
      "../../work/Week 6/image_test_data/m_e16f5ffd2c088370.frame_idx\n",
      "../../work/Week 2/\n",
      "../../work/Week 2/home_data.gl/\n",
      "../../work/Week 2/home_data.gl/m_a503e2e46f3fb896.frame_idx\n",
      "../../work/Week 2/home_data.gl/dir_archive.ini\n",
      "../../work/Week 2/home_data.gl/objects.bin\n",
      "../../work/Week 2/home_data.gl/m_a503e2e46f3fb896.0000\n",
      "../../work/Week 2/home_data.gl/m_a503e2e46f3fb896.sidx\n",
      "../../work/Week 2/Predicting House Prices.ipynb\n",
      "../../work/readonly/\n",
      "../../work/readonly/people-example.csv\n",
      "../../work/readonly/amazon_baby.gl/\n",
      "../../work/readonly/amazon_baby.gl/m_bfaa91c17752f745.frame_idx\n",
      "../../work/readonly/amazon_baby.gl/dir_archive.ini\n",
      "../../work/readonly/amazon_baby.gl/objects.bin\n",
      "../../work/readonly/amazon_baby.gl/m_bfaa91c17752f745.sidx\n",
      "../../work/readonly/amazon_baby.gl/m_bfaa91c17752f745.0000\n",
      "../../work/readonly/song_data.gl/\n",
      "tar: Removing leading `../../' from hard link targets\n",
      "../../work/readonly/song_data.gl/m_cccc16853452d1ed.0000\n",
      "../../work/readonly/song_data.gl/dir_archive.ini\n",
      "../../work/readonly/song_data.gl/m_cccc16853452d1ed.sidx\n",
      "../../work/readonly/song_data.gl/objects.bin\n",
      "../../work/readonly/song_data.gl/m_cccc16853452d1ed.frame_idx\n",
      "../../work/readonly/people_wiki.gl/\n",
      "../../work/readonly/people_wiki.gl/m_4549381c276b46c6.frame_idx\n",
      "../../work/readonly/people_wiki.gl/dir_archive.ini\n",
      "../../work/readonly/people_wiki.gl/objects.bin\n",
      "../../work/readonly/people_wiki.gl/m_4549381c276b46c6.0000\n",
      "../../work/readonly/people_wiki.gl/m_4549381c276b46c6.sidx\n",
      "../../work/readonly/image_train_data/\n",
      "../../work/readonly/image_train_data/m_504edbda459b24ff.frame_idx\n",
      "../../work/readonly/image_train_data/dir_archive.ini\n",
      "../../work/readonly/image_train_data/m_504edbda459b24ff.sidx\n",
      "../../work/readonly/image_train_data/objects.bin\n",
      "../../work/readonly/image_train_data/m_504edbda459b24ff.0000\n",
      "../../work/readonly/home_data.gl/\n",
      "../../work/readonly/home_data.gl/m_a503e2e46f3fb896.frame_idx\n",
      "../../work/readonly/home_data.gl/dir_archive.ini\n",
      "../../work/readonly/home_data.gl/objects.bin\n",
      "../../work/readonly/home_data.gl/m_a503e2e46f3fb896.0000\n",
      "../../work/readonly/home_data.gl/m_a503e2e46f3fb896.sidx\n",
      "../../work/readonly/image_test_data/\n",
      "../../work/readonly/image_test_data/m_e16f5ffd2c088370.0000\n",
      "../../work/readonly/image_test_data/m_e16f5ffd2c088370.sidx\n",
      "../../work/readonly/image_test_data/dir_archive.ini\n",
      "../../work/readonly/image_test_data/objects.bin\n",
      "../../work/readonly/image_test_data/m_e16f5ffd2c088370.frame_idx\n",
      "../../work/Week 5/\n",
      "../../work/Week 5/Song Recommender.ipynb\n",
      "../../work/Week 5/song_data.gl/\n",
      "../../work/Week 5/song_data.gl/m_cccc16853452d1ed.0000\n",
      "../../work/Week 5/song_data.gl/dir_archive.ini\n",
      "../../work/Week 5/song_data.gl/m_cccc16853452d1ed.sidx\n",
      "../../work/Week 5/song_data.gl/objects.bin\n",
      "../../work/Week 5/song_data.gl/m_cccc16853452d1ed.frame_idx\n",
      "../../work/Week 1/\n",
      "../../work/Week 1/people-example.csv\n",
      "../../work/Week 1/.ipynb_checkpoints/\n",
      "../../work/Week 1/Getting Started with SFrames.ipynb\n",
      "tar: ../../work/Week 1/people-data.csv: File removed before we read it\n",
      "../../work/Week 1/Getting started with iPython Notebook.ipynb\n",
      "../../work/Week 3/\n",
      "../../work/Week 3/amazon_baby.gl/\n",
      "../../work/Week 3/amazon_baby.gl/m_bfaa91c17752f745.frame_idx\n",
      "../../work/Week 3/amazon_baby.gl/dir_archive.ini\n",
      "../../work/Week 3/amazon_baby.gl/objects.bin\n",
      "../../work/Week 3/amazon_baby.gl/m_bfaa91c17752f745.sidx\n",
      "../../work/Week 3/amazon_baby.gl/m_bfaa91c17752f745.0000\n",
      "../../work/Week 3/Analyzing Product Sentiment.ipynb\n"
     ]
    }
   ],
   "source": [
    "\"\"\"\n",
    "the following commands record the environment dependencies\n",
    "for the course, and packages all course assignments and\n",
    "their associated data into an archive.  the results are\n",
    "deposited in the \"course home\" directory two directories\n",
    "up from where they can be downloaded/copied to your local\n",
    "machine\n",
    "\"\"\"\n",
    "\n",
    "# save the environment dependencies\n",
    "!conda list --explicit > ../../coursera-machinelearning-course1-condaenv.txt\n",
    "# package all notebook content\n",
    "!tar chzvf ../../coursera-machinelearning-course1.tgz ../../* --exclude ../../coursera-machinelearning-course1.tgz"
   ]
  },
  {
   "cell_type": "code",
   "execution_count": null,
   "metadata": {
    "collapsed": false
   },
   "outputs": [],
   "source": [
    "print 'Hello World!'"
   ]
  },
  {
   "cell_type": "markdown",
   "metadata": {},
   "source": [
    "## Create some variables in Python"
   ]
  },
  {
   "cell_type": "code",
   "execution_count": null,
   "metadata": {
    "collapsed": true
   },
   "outputs": [],
   "source": [
    "i = 4  # int"
   ]
  },
  {
   "cell_type": "code",
   "execution_count": null,
   "metadata": {
    "collapsed": false
   },
   "outputs": [],
   "source": [
    "type(i)"
   ]
  },
  {
   "cell_type": "code",
   "execution_count": null,
   "metadata": {
    "collapsed": true
   },
   "outputs": [],
   "source": [
    "f = 4.1  # float"
   ]
  },
  {
   "cell_type": "code",
   "execution_count": null,
   "metadata": {
    "collapsed": false
   },
   "outputs": [],
   "source": [
    "type(f)"
   ]
  },
  {
   "cell_type": "code",
   "execution_count": null,
   "metadata": {
    "collapsed": true
   },
   "outputs": [],
   "source": [
    "b = True  # boolean variable"
   ]
  },
  {
   "cell_type": "code",
   "execution_count": null,
   "metadata": {
    "collapsed": true
   },
   "outputs": [],
   "source": [
    "s = \"This is a string!\""
   ]
  },
  {
   "cell_type": "code",
   "execution_count": null,
   "metadata": {
    "collapsed": false
   },
   "outputs": [],
   "source": [
    "print s"
   ]
  },
  {
   "cell_type": "markdown",
   "metadata": {},
   "source": [
    "## Advanced python types"
   ]
  },
  {
   "cell_type": "code",
   "execution_count": null,
   "metadata": {
    "collapsed": true
   },
   "outputs": [],
   "source": [
    "l = [3,1,2]  # list"
   ]
  },
  {
   "cell_type": "code",
   "execution_count": null,
   "metadata": {
    "collapsed": false
   },
   "outputs": [],
   "source": [
    "print l"
   ]
  },
  {
   "cell_type": "code",
   "execution_count": null,
   "metadata": {
    "collapsed": true
   },
   "outputs": [],
   "source": [
    "d = {'foo':1, 'bar':2.3, 's':'my first dictionary'}  # dictionary"
   ]
  },
  {
   "cell_type": "code",
   "execution_count": null,
   "metadata": {
    "collapsed": false
   },
   "outputs": [],
   "source": [
    "print d"
   ]
  },
  {
   "cell_type": "code",
   "execution_count": null,
   "metadata": {
    "collapsed": false
   },
   "outputs": [],
   "source": [
    "print d['foo']  # element of a dictionary"
   ]
  },
  {
   "cell_type": "code",
   "execution_count": null,
   "metadata": {
    "collapsed": false
   },
   "outputs": [],
   "source": [
    "n = None  # Python's null type"
   ]
  },
  {
   "cell_type": "code",
   "execution_count": null,
   "metadata": {
    "collapsed": false
   },
   "outputs": [],
   "source": [
    "type(n)"
   ]
  },
  {
   "cell_type": "markdown",
   "metadata": {},
   "source": [
    "## Advanced printing"
   ]
  },
  {
   "cell_type": "code",
   "execution_count": null,
   "metadata": {
    "collapsed": false
   },
   "outputs": [],
   "source": [
    "print \"Our float value is %s. Our int value is %s.\" % (f,i)  # Python is pretty good with strings"
   ]
  },
  {
   "cell_type": "markdown",
   "metadata": {},
   "source": [
    "## Conditional statements in python"
   ]
  },
  {
   "cell_type": "code",
   "execution_count": null,
   "metadata": {
    "collapsed": false
   },
   "outputs": [],
   "source": [
    "if i == 1 and f > 4:\n",
    "    print \"The value of i is 1 and f is greater than 4.\"\n",
    "elif i > 4 or f > 4:\n",
    "    print \"i or f are both greater than 4.\"\n",
    "else:\n",
    "    print \"both i and f are less than or equal to 4\"\n"
   ]
  },
  {
   "cell_type": "markdown",
   "metadata": {},
   "source": [
    "## Conditional loops"
   ]
  },
  {
   "cell_type": "code",
   "execution_count": null,
   "metadata": {
    "collapsed": false
   },
   "outputs": [],
   "source": [
    "print l"
   ]
  },
  {
   "cell_type": "code",
   "execution_count": null,
   "metadata": {
    "collapsed": false
   },
   "outputs": [],
   "source": [
    "for e in l:\n",
    "    print e"
   ]
  },
  {
   "cell_type": "markdown",
   "metadata": {},
   "source": [
    "Note that in Python, we don't use {} or other markers to indicate the part of the loop that gets iterated.  Instead, we just indent and align each of the iterated statements with spaces or tabs. (You can use as many as you want, as long as the lines are aligned.)"
   ]
  },
  {
   "cell_type": "code",
   "execution_count": null,
   "metadata": {
    "collapsed": false
   },
   "outputs": [],
   "source": [
    "counter = 6\n",
    "while counter < 10:\n",
    "    print counter\n",
    "    counter += 1"
   ]
  },
  {
   "cell_type": "markdown",
   "metadata": {
    "collapsed": true
   },
   "source": [
    "# Creating functions in Python\n",
    "\n",
    "Again, we don't use {}, but just indent the lines that are part of the function."
   ]
  },
  {
   "cell_type": "code",
   "execution_count": null,
   "metadata": {
    "collapsed": true
   },
   "outputs": [],
   "source": [
    "def add2(x):\n",
    "    y = x + 2\n",
    "    return y"
   ]
  },
  {
   "cell_type": "code",
   "execution_count": null,
   "metadata": {
    "collapsed": true
   },
   "outputs": [],
   "source": [
    "i = 5"
   ]
  },
  {
   "cell_type": "code",
   "execution_count": null,
   "metadata": {
    "collapsed": false
   },
   "outputs": [],
   "source": [
    "add2(i)"
   ]
  },
  {
   "cell_type": "markdown",
   "metadata": {},
   "source": [
    "We can also define simple functions with lambdas:"
   ]
  },
  {
   "cell_type": "code",
   "execution_count": null,
   "metadata": {
    "collapsed": true
   },
   "outputs": [],
   "source": [
    "square = lambda x: x*x"
   ]
  },
  {
   "cell_type": "code",
   "execution_count": null,
   "metadata": {
    "collapsed": true
   },
   "outputs": [],
   "source": []
  }
 ],
 "metadata": {
  "kernelspec": {
   "display_name": "Python 2",
   "language": "python",
   "name": "python2"
  },
  "language_info": {
   "codemirror_mode": {
    "name": "ipython",
    "version": 2
   },
   "file_extension": ".py",
   "mimetype": "text/x-python",
   "name": "python",
   "nbconvert_exporter": "python",
   "pygments_lexer": "ipython2",
   "version": "2.7.12"
  }
 },
 "nbformat": 4,
 "nbformat_minor": 0
}
